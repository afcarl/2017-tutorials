{
 "cells": [
  {
   "cell_type": "code",
   "execution_count": null,
   "metadata": {
    "collapsed": false,
    "deletable": true,
    "editable": true
   },
   "outputs": [],
   "source": [
    "%matplotlib inline"
   ]
  },
  {
   "cell_type": "code",
   "execution_count": null,
   "metadata": {
    "collapsed": false,
    "deletable": true,
    "editable": true
   },
   "outputs": [],
   "source": [
    "import numpy\n",
    "\n",
    "import matplotlib.cm\n",
    "import matplotlib.pyplot\n",
    "import scipy.ndimage\n",
    "import skimage.color\n",
    "import skimage.data\n",
    "import skimage.feature\n",
    "import skimage.filters\n",
    "import skimage.future.graph\n",
    "import skimage.morphology"
   ]
  },
  {
   "cell_type": "code",
   "execution_count": null,
   "metadata": {
    "collapsed": true,
    "deletable": true,
    "editable": true
   },
   "outputs": [],
   "source": [
    "matplotlib.pyplot.rcParams[\"figure.figsize\"] = (8, 8)\n",
    "matplotlib.pyplot.rcParams[\"image.cmap\"] = \"gray\""
   ]
  },
  {
   "cell_type": "markdown",
   "metadata": {
    "deletable": true,
    "editable": true
   },
   "source": [
    "# Segmentation\n",
    "\n",
    "\n",
    "Segmentation is the division of an image into \"meaningful\" regions. If you've seen The Terminator, you've seen image segmentation:\n",
    "\n",
    "<img src=\"terminator-vision.png\" width=\"700px\"/>\n",
    "\n",
    "In `scikit-image`, you can find segmentation functions in the `segmentation` package, with one exception: the `watershed` function is in `morphology`, because it's a bit of both. (In 0.13dev, you will find `watershed` in both the `morphology` and `segmentation` packages.) \n",
    "\n",
    "We'll use watershed and region boundary agglomeration. Functions such as `skimage.segmentation.slic` are useful for images in which the objects you want to segment have different colors. We won't cover them here but you should be aware they exist."
   ]
  },
  {
   "cell_type": "markdown",
   "metadata": {
    "deletable": true,
    "editable": true
   },
   "source": [
    "## Segmenting with filters\n",
    "\n",
    "In many images, the contrast between regions is not sufficient to distinguish them, but there is a clear boundary between them. Using an edge detector on these images, followed by a *watershed*, often gives very good segmentation. For example, look at the output of the Sobel filter on the coins image:"
   ]
  },
  {
   "cell_type": "code",
   "execution_count": null,
   "metadata": {
    "collapsed": false,
    "deletable": true,
    "editable": true
   },
   "outputs": [],
   "source": [
    "coins = skimage.data.coins()\n",
    "\n",
    "edges = skimage.filters.sobel(coins)\n",
    "\n",
    "matplotlib.pyplot.imshow(edges, cmap=\"gray\", shape=(32, 32));"
   ]
  },
  {
   "cell_type": "markdown",
   "metadata": {
    "deletable": true,
    "editable": true
   },
   "source": [
    "The *watershed algorithm* finds the regions between these edges. It does so by envisioning the pixel intensity as height on a topographic map. It then \"floods\" the map from the bottom up, starting from seed points. These flood areas are called \"watershed basins\" and when they meet, they form the image segmentation.\n",
    "\n",
    "Let's look at a one-dimensional example:"
   ]
  },
  {
   "cell_type": "code",
   "execution_count": null,
   "metadata": {
    "collapsed": false,
    "deletable": true,
    "editable": true
   },
   "outputs": [],
   "source": [
    "x = numpy.arange(12)\n",
    "\n",
    "y = numpy.array([1, 0, 1, 2, 1, 3, 2, 0, 2, 4, 1, 0])\n",
    "\n",
    "seeds = scipy.ndimage.label(y == 0)[0]\n",
    "\n",
    "seed_positions = numpy.argwhere(seeds)[:, 0]\n",
    "\n",
    "print(\"Seeds:\", seeds)\n",
    "\n",
    "print(\"Seed positions:\", seed_positions)"
   ]
  },
  {
   "cell_type": "code",
   "execution_count": null,
   "metadata": {
    "collapsed": false,
    "deletable": true,
    "editable": true
   },
   "outputs": [],
   "source": [
    "result = skimage.morphology.watershed(y, seeds)\n",
    "\n",
    "print(result)"
   ]
  },
  {
   "cell_type": "code",
   "execution_count": null,
   "metadata": {
    "collapsed": false,
    "deletable": true,
    "editable": true
   },
   "outputs": [],
   "source": [
    "# You can ignore the code below--it's just\n",
    "# to make a pretty plot of the results.\n",
    "fig, ax = matplotlib.pyplot.subplots(figsize=(10, 5))\n",
    "\n",
    "ax.plot(\n",
    "    y, \n",
    "    \"-o\", \n",
    "    label=\"Image slice\", \n",
    "    linewidth=3\n",
    ")\n",
    "\n",
    "ax.plot(\n",
    "    seed_positions,\n",
    "    numpy.zeros_like(seed_positions), \n",
    "    \"r^\",\n",
    "    label=\"Seeds\",\n",
    "    markersize=15\n",
    ")\n",
    "\n",
    "for n, label in enumerate(numpy.unique(result)):\n",
    "    mask = (result == label)\n",
    "    \n",
    "    ax.bar(\n",
    "        x[mask][:-1], \n",
    "        result[mask][:-1],\n",
    "        width=1, \n",
    "        label=\"Region {:d}\".format(n),\n",
    "        alpha=0.1\n",
    "    )\n",
    "\n",
    "ax.vlines(\n",
    "    numpy.argwhere(numpy.diff(result)) + 0.5, \n",
    "    -0.2, \n",
    "    4.1, \n",
    "    \"m\",\n",
    "    linewidth=3, \n",
    "    linestyle=\"--\"\n",
    ")\n",
    "\n",
    "ax.legend(loc=\"upper left\", numpoints=1)\n",
    "\n",
    "ax.axis(\"off\")\n",
    "\n",
    "ax.set_ylim(-0.2, 4.1);"
   ]
  },
  {
   "cell_type": "markdown",
   "metadata": {
    "deletable": true,
    "editable": true
   },
   "source": [
    "Let's find some seeds for `coins`. First, we compute the *distance transform* of a thresholded version of `edges`:"
   ]
  },
  {
   "cell_type": "code",
   "execution_count": null,
   "metadata": {
    "collapsed": false,
    "deletable": true,
    "editable": true
   },
   "outputs": [],
   "source": [
    "threshold = skimage.filters.threshold_otsu(edges)\n",
    "\n",
    "print(threshold)"
   ]
  },
  {
   "cell_type": "code",
   "execution_count": null,
   "metadata": {
    "collapsed": false,
    "deletable": true,
    "editable": true
   },
   "outputs": [],
   "source": [
    "# Euclidean distance transform\n",
    "# How far do we have to travel from a non-edge to find an edge?\n",
    "non_edges = (edges < threshold)\n",
    "\n",
    "matplotlib.pyplot.imshow(non_edges);"
   ]
  },
  {
   "cell_type": "code",
   "execution_count": null,
   "metadata": {
    "collapsed": false,
    "deletable": true,
    "editable": true
   },
   "outputs": [],
   "source": [
    "distance_from_edge = scipy.ndimage.distance_transform_edt(non_edges)\n",
    "\n",
    "matplotlib.pyplot.imshow(distance_from_edge, cmap=\"viridis\");"
   ]
  },
  {
   "cell_type": "markdown",
   "metadata": {
    "deletable": true,
    "editable": true
   },
   "source": [
    "Then, we find the *peaks* in that image--the background points furthest away from any edges--which will act as the seeds."
   ]
  },
  {
   "cell_type": "code",
   "execution_count": null,
   "metadata": {
    "collapsed": false,
    "deletable": true,
    "editable": true
   },
   "outputs": [],
   "source": [
    "peaks = skimage.feature.peak_local_max(distance_from_edge, min_distance=10)\n",
    "\n",
    "print(\"Peaks shape:\", peaks.shape)"
   ]
  },
  {
   "cell_type": "code",
   "execution_count": null,
   "metadata": {
    "collapsed": false,
    "deletable": true,
    "editable": true
   },
   "outputs": [],
   "source": [
    "peaks_image = numpy.zeros(coins.shape, numpy.bool)\n",
    "\n",
    "peaks_image[tuple(numpy.transpose(peaks))] = True\n",
    "\n",
    "seeds, num_seeds = scipy.ndimage.label(peaks_image)\n",
    "\n",
    "matplotlib.pyplot.imshow(edges, cmap=\"gray\")\n",
    "\n",
    "matplotlib.pyplot.plot(peaks[:, 1], peaks[:, 0], \"ro\");\n",
    "\n",
    "matplotlib.pyplot.axis(\"image\")"
   ]
  },
  {
   "cell_type": "markdown",
   "metadata": {
    "deletable": true,
    "editable": true
   },
   "source": [
    "We are now ready to perform the watershed:"
   ]
  },
  {
   "cell_type": "code",
   "execution_count": null,
   "metadata": {
    "collapsed": false,
    "deletable": true,
    "editable": true
   },
   "outputs": [],
   "source": [
    "watershed = skimage.morphology.watershed(edges, seeds)\n",
    "\n",
    "# matplotlib.pyplot.plot(peaks[:, 1], peaks[:, 0], \"ro\");\n",
    "\n",
    "matplotlib.pyplot.imshow(skimage.color.label2rgb(watershed, coins));"
   ]
  },
  {
   "cell_type": "markdown",
   "metadata": {
    "deletable": true,
    "editable": true
   },
   "source": [
    "## Examining the resulting segmentation\n",
    "\n",
    "That's pretty good! Some coins are perfectly segmented, with only one missing. We can't do much about the missing one (yet), but we can [*merge regions*](http://scikit-image.org/docs/dev/auto_examples/segmentation/plot_boundary_merge.html#example-segmentation-plot-boundary-merge-py) to fix the remaining coins, and the background. For that we need a *region adjacency graph*, or RAG.\n",
    "\n",
    "Because *mean boundary agglomeration* won't be available until scikit-image 0.13, we have to *monkey patch* the RAG class to use it. "
   ]
  },
  {
   "cell_type": "code",
   "execution_count": null,
   "metadata": {
    "collapsed": false,
    "deletable": true,
    "editable": true
   },
   "outputs": [],
   "source": [
    "def merge_nodes(self, src, dst, weight_func=None, in_place=True, extra_arguments=[], extra_keywords={}):\n",
    "    src_nbrs = set(self.neighbors(src))\n",
    "    \n",
    "    dst_nbrs = set(self.neighbors(dst))\n",
    "    \n",
    "    neighbors = (src_nbrs | dst_nbrs) - set([src, dst])\n",
    "\n",
    "    if in_place:\n",
    "        new = dst\n",
    "    else:\n",
    "        new = self.next_id()\n",
    "        \n",
    "        self.add_node(new)\n",
    "\n",
    "    for neighbor in neighbors:\n",
    "        data = weight_func(self, src, new, neighbor, *extra_arguments, **extra_keywords)\n",
    "    \n",
    "        self.add_edge(neighbor, new, attr_dict=data)\n",
    "\n",
    "    self.node[new][\"labels\"] = (self.node[src][\"labels\"] + self.node[dst][\"labels\"])\n",
    "    \n",
    "    self.remove_node(src)\n",
    "\n",
    "    if not in_place:\n",
    "        self.remove_node(dst)\n",
    "\n",
    "    return new\n",
    "\n",
    "skimage.future.graph.RAG.merge_nodes = merge_nodes"
   ]
  },
  {
   "cell_type": "markdown",
   "metadata": {
    "deletable": true,
    "editable": true
   },
   "source": [
    "Now we can make a RAG that will be mergeable:"
   ]
  },
  {
   "cell_type": "code",
   "execution_count": null,
   "metadata": {
    "collapsed": false,
    "deletable": true,
    "editable": true
   },
   "outputs": [],
   "source": [
    "graph = skimage.future.graph.rag_boundary(watershed, edges)"
   ]
  },
  {
   "cell_type": "markdown",
   "metadata": {
    "deletable": true,
    "editable": true
   },
   "source": [
    "graph is now a *graph* in which each region is a node, and each node links to that regions neighbors. The edges have hold properties about the boundary between the corresponding region:"
   ]
  },
  {
   "cell_type": "code",
   "execution_count": null,
   "metadata": {
    "collapsed": false,
    "deletable": true,
    "editable": true
   },
   "outputs": [],
   "source": [
    "matplotlib.pyplot.imshow(watershed == 45)\n",
    "\n",
    "print(graph[45])"
   ]
  },
  {
   "cell_type": "code",
   "execution_count": null,
   "metadata": {
    "collapsed": false,
    "deletable": true,
    "editable": true
   },
   "outputs": [],
   "source": [
    "matplotlib.pyplot.imshow(watershed == 47)\n",
    "\n",
    "print(graph[47])"
   ]
  },
  {
   "cell_type": "markdown",
   "metadata": {
    "deletable": true,
    "editable": true
   },
   "source": [
    "Look at the `skimage.future.graph.merge_hierarchical` API. It's still being worked on. That's why it's in `future`, but the future is here! Start using it now and send us feedback!"
   ]
  },
  {
   "cell_type": "code",
   "execution_count": null,
   "metadata": {
    "collapsed": false,
    "deletable": true,
    "editable": true
   },
   "outputs": [],
   "source": [
    "skimage.future.graph.merge_hierarchical?"
   ]
  },
  {
   "cell_type": "markdown",
   "metadata": {
    "deletable": true,
    "editable": true
   },
   "source": [
    "Note that it needs both a merge function and a weight function, which together define how merging nodes affects the graph. In our case, we want any edges to reflect the mean of the pixels at their boundary."
   ]
  },
  {
   "cell_type": "code",
   "execution_count": null,
   "metadata": {
    "collapsed": true,
    "deletable": true,
    "editable": true
   },
   "outputs": [],
   "source": [
    "def weight_boundary(graph, src, dst, n):\n",
    "    default = {\n",
    "        \"weight\": 0.0, \n",
    "        \"count\": 0\n",
    "    }\n",
    "\n",
    "    count_src = graph[src].get(n, default)[\"count\"]\n",
    "    \n",
    "    count_dst = graph[dst].get(n, default)[\"count\"]\n",
    "\n",
    "    weight_src = graph[src].get(n, default)[\"weight\"]\n",
    "    \n",
    "    weight_dst = graph[dst].get(n, default)[\"weight\"]\n",
    "    \n",
    "    count = count_src + count_dst\n",
    "    \n",
    "    weighted_mean = (count_src * weight_src + count_dst * weight_dst) / count\n",
    "\n",
    "    return {\n",
    "        \"count\": count, \n",
    "        \"weight\": weighted_mean\n",
    "    }\n",
    "\n",
    "\n",
    "def do_nothing(*args, **kwargs):\n",
    "    pass"
   ]
  },
  {
   "cell_type": "markdown",
   "metadata": {
    "deletable": true,
    "editable": true
   },
   "source": [
    "Now we can use these functions to merge the the nodes of the graph, one after the other:"
   ]
  },
  {
   "cell_type": "code",
   "execution_count": null,
   "metadata": {
    "collapsed": false,
    "deletable": true,
    "editable": true
   },
   "outputs": [],
   "source": [
    "seg_coins = skimage.future.graph.merge_hierarchical(\n",
    "    watershed,\n",
    "    graph,\n",
    "    thresh=0.155,\n",
    "    rag_copy=True,\n",
    "    in_place_merge=True,\n",
    "    merge_func=do_nothing,\n",
    "    weight_func=weight_boundary\n",
    ")"
   ]
  },
  {
   "cell_type": "markdown",
   "metadata": {
    "deletable": true,
    "editable": true
   },
   "source": [
    "Let's look at the result:"
   ]
  },
  {
   "cell_type": "code",
   "execution_count": null,
   "metadata": {
    "collapsed": false,
    "deletable": true,
    "editable": true
   },
   "outputs": [],
   "source": [
    "matplotlib.pyplot.imshow(skimage.segmentation.mark_boundaries(coins, seg_coins));"
   ]
  },
  {
   "cell_type": "markdown",
   "metadata": {
    "deletable": true,
    "editable": true
   },
   "source": [
    "We're missing a coin, but otherwise it's perfect! Mean boundary agglomeration, as this procedure is called, is simple but powerful!"
   ]
  },
  {
   "cell_type": "markdown",
   "metadata": {
    "deletable": true,
    "editable": true
   },
   "source": [
    "## <span class=\"exercise\">Exercise: The Seeds of Doubt</span>\n",
    "\n",
    "Watershed combined with region agglomeration makes a very good segmentation, but we missed a coin. How can you improve this?\n",
    "\n",
    "We missed a seed, so think of a few other ways to place seeds of an image, or to get a finer segmentation at the start. Here's a couple of ideas:\n",
    "- find peaks in a Gaussian-smoothed image of the coins, and combine those with our original seeds.\n",
    "- use a different segmentation algorithm from `watershed`, such as `skimage.segmentation.felzenszwalb` or `skimage.segmentation.slic`, and find its intersection with watershed using `skimage.segmentation.join_segmentations`."
   ]
  },
  {
   "cell_type": "code",
   "execution_count": null,
   "metadata": {
    "collapsed": true,
    "deletable": true,
    "editable": true
   },
   "outputs": [],
   "source": []
  }
 ],
 "metadata": {
  "kernelspec": {
   "display_name": "Python 3",
   "language": "python",
   "name": "python3"
  },
  "language_info": {
   "codemirror_mode": {
    "name": "ipython",
    "version": 3
   },
   "file_extension": ".py",
   "mimetype": "text/x-python",
   "name": "python",
   "nbconvert_exporter": "python",
   "pygments_lexer": "ipython3",
   "version": "3.6.0"
  }
 },
 "nbformat": 4,
 "nbformat_minor": 0
}
