{
 "cells": [
  {
   "cell_type": "code",
   "execution_count": null,
   "metadata": {
    "collapsed": true,
    "deletable": true,
    "editable": true
   },
   "outputs": [],
   "source": [
    "%matplotlib inline"
   ]
  },
  {
   "cell_type": "code",
   "execution_count": null,
   "metadata": {
    "collapsed": true,
    "deletable": true,
    "editable": true
   },
   "outputs": [],
   "source": [
    "import numpy\n",
    "\n",
    "import matplotlib.pyplot\n",
    "import scipy.ndimage\n",
    "import skimage.color\n",
    "import skimage.exposure\n",
    "import skimage.feature\n",
    "import skimage.filters\n",
    "import skimage.io\n",
    "import skimage.measure\n",
    "import skimage.morphology"
   ]
  },
  {
   "cell_type": "code",
   "execution_count": null,
   "metadata": {
    "collapsed": true,
    "deletable": true,
    "editable": true
   },
   "outputs": [],
   "source": [
    "matplotlib.pyplot.rcParams[\"image.cmap\"] = \"gray\"\n",
    "matplotlib.pyplot.rcParams[\"image.interpolation\"] = \"none\""
   ]
  },
  {
   "cell_type": "code",
   "execution_count": null,
   "metadata": {
    "collapsed": true,
    "deletable": true,
    "editable": true
   },
   "outputs": [],
   "source": [
    "# Function for displaying 16 slices from 3D data\n",
    "def display(data, cmap=\"gray\"):\n",
    "    figure, axes = matplotlib.pyplot.subplots(nrows=4, ncols=4, figsize=(12, 12))\n",
    "    \n",
    "    for idx, (plane, ax) in enumerate(zip(data, axes.flatten())):\n",
    "        ax.imshow(plane, cmap=cmap, vmin=data.min(), vmax=data.max())\n",
    "            \n",
    "        if idx / 4 < 3:\n",
    "            ax.set_xticks([])\n",
    "            \n",
    "        if idx % 4 != 0:\n",
    "            ax.set_yticks([])"
   ]
  },
  {
   "cell_type": "markdown",
   "metadata": {
    "deletable": true,
    "editable": true
   },
   "source": [
    "# 3D image processing\n",
    "\n",
    "This tutorial aims to highlight some of the three-dimensional image processing operations available in `scikit-image`. It is by no means comprehensive. In this tutorial we will segment anisotropic three-dimensional data of cells taken from a biology experiment.\n",
    "\n",
    "Scikit-image requires three-dimenional data to be in the format `(plane, row, column)`. The data in this example has fewer planes than rows and columns due to how the image was captured, this information is captured in the `spacing` variable."
   ]
  },
  {
   "cell_type": "code",
   "execution_count": null,
   "metadata": {
    "collapsed": false,
    "deletable": true,
    "editable": true
   },
   "outputs": [],
   "source": [
    "cells = skimage.io.imread(\"../../images/cells.tif\")\n",
    "\n",
    "spacing = (0.58, 0.065, 0.065)\n",
    "\n",
    "print(\"shape (plane, row, col): {}\".format(cells.shape))\n",
    "print(\"dtype: {}\".format(cells.dtype))\n",
    "\n",
    "display(cells)"
   ]
  },
  {
   "cell_type": "markdown",
   "metadata": {
    "deletable": true,
    "editable": true
   },
   "source": [
    "The range of the cell intensities is very small. We can visualize the low contrast using a histogram.\n",
    "\n",
    "The contrast of the image can be improved using histogram equalization. `skimage.exposure.equalize_hist` is compatible with three-dimensional data."
   ]
  },
  {
   "cell_type": "code",
   "execution_count": null,
   "metadata": {
    "collapsed": false,
    "deletable": true,
    "editable": true
   },
   "outputs": [],
   "source": [
    "cells = skimage.img_as_float(cells)\n",
    "\n",
    "equalized = skimage.exposure.equalize_hist(cells)\n",
    "\n",
    "display(equalized)\n",
    "\n",
    "_, (a, b) = matplotlib.pyplot.subplots(nrows=1, ncols=2, figsize=(10, 4))\n",
    "\n",
    "a.hist(cells.flatten(), bins=32)\n",
    "a.set_title(\"Original\")\n",
    "\n",
    "b.hist(equalized.flatten(), bins=32)\n",
    "b.set_title(\"Equalized\");"
   ]
  },
  {
   "cell_type": "markdown",
   "metadata": {
    "deletable": true,
    "editable": true
   },
   "source": [
    "After histogram equalization, we see better contrast between the foreground and background pixels. We also observe much salt-and-pepper noise. This can be removed using morphological opening and closing, followed by a filter.\n",
    "\n",
    "`skimage.morphology` operations support three-dimensional structures. However, the algorithms assume isotropic volumes. We could squash the structuring element to minimize the plane-dimension contribution. Because structuring element we use is smaller than the spacing in the plane-dimension, we choose to process the image as a series of discrete slices. Any anisotropic algorithm would effectively operate plane-wise."
   ]
  },
  {
   "cell_type": "code",
   "execution_count": null,
   "metadata": {
    "collapsed": false,
    "deletable": true,
    "editable": true
   },
   "outputs": [],
   "source": [
    "despeckled = numpy.zeros_like(equalized)\n",
    "\n",
    "selem = skimage.morphology.disk(3)\n",
    "\n",
    "for index, plane in enumerate(equalized):\n",
    "    despeckled[index] = skimage.morphology.opening(plane, selem)\n",
    "\n",
    "for index, plane in enumerate(despeckled):\n",
    "    despeckled[index] = skimage.morphology.closing(plane, selem)\n",
    "    \n",
    "display(despeckled)"
   ]
  },
  {
   "cell_type": "markdown",
   "metadata": {
    "deletable": true,
    "editable": true
   },
   "source": [
    "Gaussian filtering will remove the remaining noise in the image. The `sigma` parameter can be a scalar or a list of scalars which can be applied to each dimension. Recall that the plane-dimension has a spacing larger than the row- and column-dimensions. We want to reduce the contribution of planes in the calculation of the filter weights. We can adjust `sigma` such that the plane-dimension contribution is less than the row- and column-dimension by dividing a scalar representation of `sigma` by the spacing."
   ]
  },
  {
   "cell_type": "code",
   "execution_count": null,
   "metadata": {
    "collapsed": false,
    "deletable": true,
    "editable": true
   },
   "outputs": [],
   "source": [
    "sigma = 3.0 * numpy.divide(spacing[1], spacing)\n",
    "\n",
    "gaussian = skimage.filters.gaussian(despeckled, sigma)\n",
    "\n",
    "display(gaussian)"
   ]
  },
  {
   "cell_type": "code",
   "execution_count": null,
   "metadata": {
    "collapsed": false,
    "deletable": true,
    "editable": true
   },
   "outputs": [],
   "source": [
    "_, (a, b, c) = matplotlib.pyplot.subplots(nrows=1, ncols=3, figsize=(16, 4))\n",
    "\n",
    "a.hist(cells.flatten(), bins=32)\n",
    "a.set_title(\"Original\")\n",
    "\n",
    "b.hist(equalized.flatten(), bins=32)\n",
    "b.set_title(\"Equalized\")\n",
    "\n",
    "c.hist(gaussian.flatten(), bins=32)\n",
    "c.set_title(\"Equalized and despeckled\");"
   ]
  },
  {
   "cell_type": "markdown",
   "metadata": {
    "deletable": true,
    "editable": true
   },
   "source": [
    "We're beginning to see good separation between the foreground and background in the image. The \"Equalized and despeckled\" histogram shows a reasonable bimodal distribution. Let's create a binary image by computing Li's minimum cross-entropy threshold and applying it to the image."
   ]
  },
  {
   "cell_type": "code",
   "execution_count": null,
   "metadata": {
    "collapsed": false,
    "deletable": true,
    "editable": true
   },
   "outputs": [],
   "source": [
    "threshold = skimage.filters.threshold_li(gaussian)\n",
    "\n",
    "matplotlib.pyplot.hist(gaussian.flatten(), bins=32)\n",
    "matplotlib.pyplot.axvline(x=threshold, color=\"r\")"
   ]
  },
  {
   "cell_type": "code",
   "execution_count": null,
   "metadata": {
    "collapsed": false,
    "deletable": true,
    "editable": true
   },
   "outputs": [],
   "source": [
    "binary = gaussian > threshold\n",
    "\n",
    "display(binary)"
   ]
  },
  {
   "cell_type": "markdown",
   "metadata": {
    "deletable": true,
    "editable": true
   },
   "source": [
    "The binary image produced by Li's thresholding looks great! There are a few small holes and artifacts that should be cleaned up before we can segment the image. The operations `skimage.morphology.remove_small_holes` and `skimage.morphology.remove_small_objects` are adaptive for volumes. We define `size_fn` which will help compute the `size` parameter for these functions by taking the diameter of a hole or object and returning its volume."
   ]
  },
  {
   "cell_type": "code",
   "execution_count": null,
   "metadata": {
    "collapsed": false,
    "deletable": true,
    "editable": true
   },
   "outputs": [],
   "source": [
    "# Return volume (in pixels) of a sphere with the given diameter.\n",
    "def size_fn(diameter):\n",
    "    radius = diameter / 2\n",
    "    \n",
    "    return (4 * numpy.pi * (radius ** 2)) / 3"
   ]
  },
  {
   "cell_type": "code",
   "execution_count": null,
   "metadata": {
    "collapsed": false,
    "deletable": true,
    "editable": true
   },
   "outputs": [],
   "source": [
    "filled = skimage.morphology.remove_small_holes(binary, min_size=size_fn(30))\n",
    "\n",
    "removed = skimage.morphology.remove_small_objects(filled, min_size=size_fn(40))\n",
    "\n",
    "display(removed)"
   ]
  },
  {
   "cell_type": "markdown",
   "metadata": {
    "deletable": true,
    "editable": true
   },
   "source": [
    "Next we'll use `skimage.morphology.watershed` to segment the image and separate the overlapping cells in the upper right corner of the image. Notice the footprint provided to `skimage.feature.peak_local_max` is a three-dimensional structure minimized in the plane-direction proportionally to `spacing`."
   ]
  },
  {
   "cell_type": "code",
   "execution_count": null,
   "metadata": {
    "collapsed": false,
    "deletable": true,
    "editable": true
   },
   "outputs": [],
   "source": [
    "# This is a hack to avoid over-segmentation caused by the disjoint \n",
    "# ends of objects in the first and final few slices of the volume.\n",
    "seeded = removed.copy()\n",
    "seeded[:3] = numpy.zeros_like(removed[:3])\n",
    "seeded[-3:] = numpy.zeros_like(removed[-3:])\n",
    "\n",
    "distance = scipy.ndimage.distance_transform_edt(seeded)\n",
    "\n",
    "local_maxi = skimage.feature.peak_local_max(\n",
    "    distance, \n",
    "    indices=False, \n",
    "    footprint=numpy.ones((33 * numpy.divide(spacing[1], spacing)).astype(numpy.uint8)), \n",
    "    labels=removed,\n",
    ")\n",
    "\n",
    "markers = scipy.ndimage.label(local_maxi)[0]\n",
    "\n",
    "labels = skimage.morphology.watershed(-distance, markers, mask=removed)"
   ]
  },
  {
   "cell_type": "code",
   "execution_count": null,
   "metadata": {
    "collapsed": false,
    "deletable": true,
    "editable": true
   },
   "outputs": [],
   "source": [
    "overlay = numpy.zeros((*labels.shape, 3))\n",
    "\n",
    "for index, plane in enumerate(labels):\n",
    "    overlay[index] = skimage.color.label2rgb(plane, image=gaussian[index], bg_label=0)\n",
    "\n",
    "display(overlay, cmap=None)"
   ]
  },
  {
   "cell_type": "markdown",
   "metadata": {
    "deletable": true,
    "editable": true
   },
   "source": [
    "Feature extraction for three-dimensional segmentations is supported in `skimage.measure`. Several of the properties collected by `skimage.measure.regionprops` support three-dimensional segmentations. The cell below lists which properties are available for three-dimensional segmentations."
   ]
  },
  {
   "cell_type": "code",
   "execution_count": null,
   "metadata": {
    "collapsed": false,
    "deletable": true,
    "editable": true
   },
   "outputs": [],
   "source": [
    "region_properties = skimage.measure.regionprops(labels)\n",
    "\n",
    "supported = [] \n",
    "\n",
    "unsupported = []\n",
    "\n",
    "for prop in region_properties[0]:\n",
    "    try:\n",
    "        region_properties[0][prop]\n",
    "        \n",
    "        supported.append(prop)\n",
    "    except NotImplementedError:\n",
    "        unsupported.append(prop)\n",
    "\n",
    "print(\"Supported properties:\")\n",
    "print(\"\\n\".join(supported))\n",
    "print()\n",
    "print(\"Unsupported properties:\")\n",
    "print(\"\\n\".join(unsupported))"
   ]
  },
  {
   "cell_type": "code",
   "execution_count": null,
   "metadata": {
    "collapsed": true,
    "deletable": true,
    "editable": true
   },
   "outputs": [],
   "source": []
  }
 ],
 "metadata": {
  "kernelspec": {
   "display_name": "Python 3",
   "language": "python",
   "name": "python3"
  },
  "language_info": {
   "codemirror_mode": {
    "name": "ipython",
    "version": 3
   },
   "file_extension": ".py",
   "mimetype": "text/x-python",
   "name": "python",
   "nbconvert_exporter": "python",
   "pygments_lexer": "ipython3",
   "version": "3.6.1"
  }
 },
 "nbformat": 4,
 "nbformat_minor": 2
}
